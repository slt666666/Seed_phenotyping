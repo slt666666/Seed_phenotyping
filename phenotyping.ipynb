{
 "cells": [
  {
   "cell_type": "markdown",
   "metadata": {},
   "source": [
    "# Phenotyping Seed hull color"
   ]
  },
  {
   "cell_type": "markdown",
   "metadata": {},
   "source": [
    "### Read library"
   ]
  },
  {
   "cell_type": "code",
   "execution_count": 4,
   "metadata": {},
   "outputs": [],
   "source": [
    "import PIL\n",
    "from PIL import Image\n",
    "import cv2\n",
    "import sklearn\n",
    "from sklearn.cluster import KMeans\n",
    "import matplotlib.pyplot as plt\n",
    "import matplotlib\n",
    "import seaborn as sns\n",
    "import numpy as np\n",
    "import glob\n",
    "from tqdm import tqdm\n",
    "\n",
    "from sklearn.decomposition import PCA\n",
    "import pandas as pd\n",
    "from colormath.color_objects import XYZColor, sRGBColor\n",
    "from colormath.color_conversions import convert_color\n",
    "\n",
    "%matplotlib inline\n",
    "%config InlineBackend.figure_formats = {'png', 'retina'}\n",
    "\n",
    "matplotlib.rcParams['font.family'] = \"Arial\""
   ]
  },
  {
   "cell_type": "markdown",
   "metadata": {},
   "source": [
    "### Clustering function"
   ]
  },
  {
   "cell_type": "code",
   "execution_count": 5,
   "metadata": {},
   "outputs": [],
   "source": [
    "# clustering colors using kmeans \n",
    "def cluster_color(img_path):\n",
    "#     print(img_path)\n",
    "    upstate = cv2.imread(img_path)\n",
    "\n",
    "    upstate_hsv = cv2.cvtColor(upstate, cv2.COLOR_BGR2HSV)\n",
    "\n",
    "    blue_min = np.array([30, 0, 25], np.uint8)\n",
    "    blue_max = np.array([255, 255, 255], np.uint8)\n",
    "\n",
    "    # get mask of pixels that are in blue range\n",
    "    mask_inverse = cv2.inRange(upstate_hsv, blue_min, blue_max)\n",
    "\n",
    "    # inverse mask to get parts that are not blue\n",
    "    mask = cv2.bitwise_not(mask_inverse)\n",
    "\n",
    "    # convert single channel mask back into 3 channels\n",
    "    mask_rgb = cv2.cvtColor(mask, cv2.COLOR_GRAY2RGB)\n",
    "\n",
    "    # perform bitwise and on mask to obtain cut-out image that is not blue\n",
    "    masked_upstate = cv2.bitwise_and(upstate, mask_rgb)\n",
    "\n",
    "    # replace the cut-out parts with white\n",
    "    masked_replace_white = cv2.addWeighted(masked_upstate, 1, \\\n",
    "                                           cv2.cvtColor(mask_inverse, cv2.COLOR_GRAY2RGB), 1, 0)\n",
    "    fixed_img = cv2.cvtColor(masked_replace_white, cv2.COLOR_BGR2RGB)\n",
    "    \n",
    "    # clustering\n",
    "    cv2_img = cv2.resize(fixed_img, (331, 468))\n",
    "    cv2_img = cv2_img.reshape((cv2_img.shape[0] * cv2_img.shape[1], 3))\n",
    "    cluster = KMeans(n_clusters=2)\n",
    "    cluster.fit(X=cv2_img)\n",
    "    KMeans(algorithm='auto', copy_x=True, init='k-means++', max_iter=300,\n",
    "        n_clusters=5, n_init=10, n_jobs=1, precompute_distances='auto',\n",
    "        random_state=None, tol=0.0001, verbose=0)\n",
    "    return img_path, cluster.cluster_centers_"
   ]
  },
  {
   "cell_type": "markdown",
   "metadata": {},
   "source": [
    "### extract clustering RGB values from image "
   ]
  },
  {
   "cell_type": "code",
   "execution_count": 6,
   "metadata": {},
   "outputs": [
    {
     "name": "stderr",
     "output_type": "stream",
     "text": [
      "100%|██████████| 235/235 [04:38<00:00,  1.18s/it]\n"
     ]
    }
   ],
   "source": [
    "images = glob.glob('/Users/toshiyuki/Desktop/N09/NAM09/*.jpg')\n",
    "\n",
    "image_labels = []\n",
    "image_rgb = []\n",
    "for i in tqdm(images):\n",
    "    img_path, cluster = cluster_color(i)\n",
    "    image_labels.append(\"N09_{}\".format(img_path[38:41]))\n",
    "    if sum(cluster[0]) > sum(cluster[1]):\n",
    "        image_rgb.append(cluster[1])\n",
    "    else:\n",
    "        image_rgb.append(cluster[0])"
   ]
  },
  {
   "cell_type": "markdown",
   "metadata": {},
   "source": [
    "### Change RGB value to CIE color space. And extract CIE_Y value as phenotypic value."
   ]
  },
  {
   "cell_type": "code",
   "execution_count": 7,
   "metadata": {},
   "outputs": [
    {
     "data": {
      "text/html": [
       "<div>\n",
       "<style scoped>\n",
       "    .dataframe tbody tr th:only-of-type {\n",
       "        vertical-align: middle;\n",
       "    }\n",
       "\n",
       "    .dataframe tbody tr th {\n",
       "        vertical-align: top;\n",
       "    }\n",
       "\n",
       "    .dataframe thead th {\n",
       "        text-align: right;\n",
       "    }\n",
       "</style>\n",
       "<table border=\"1\" class=\"dataframe\">\n",
       "  <thead>\n",
       "    <tr style=\"text-align: right;\">\n",
       "      <th></th>\n",
       "      <th>color</th>\n",
       "    </tr>\n",
       "  </thead>\n",
       "  <tbody>\n",
       "    <tr>\n",
       "      <th>N09_190</th>\n",
       "      <td>188805.105475</td>\n",
       "    </tr>\n",
       "    <tr>\n",
       "      <th>N09_022</th>\n",
       "      <td>130218.408180</td>\n",
       "    </tr>\n",
       "    <tr>\n",
       "      <th>N09_242</th>\n",
       "      <td>180827.683445</td>\n",
       "    </tr>\n",
       "    <tr>\n",
       "      <th>N09_145</th>\n",
       "      <td>151323.422805</td>\n",
       "    </tr>\n",
       "    <tr>\n",
       "      <th>N09_063</th>\n",
       "      <td>186829.081043</td>\n",
       "    </tr>\n",
       "  </tbody>\n",
       "</table>\n",
       "</div>"
      ],
      "text/plain": [
       "                 color\n",
       "N09_190  188805.105475\n",
       "N09_022  130218.408180\n",
       "N09_242  180827.683445\n",
       "N09_145  151323.422805\n",
       "N09_063  186829.081043"
      ]
     },
     "execution_count": 7,
     "metadata": {},
     "output_type": "execute_result"
    }
   ],
   "source": [
    "CIE_y = []\n",
    "for i in image_rgb:\n",
    "    rgb = sRGBColor(i[0],i[1],i[2])\n",
    "    xyz = convert_color(rgb, XYZColor)\n",
    "    CIE_y.append(xyz.get_value_tuple()[1])\n",
    "\n",
    "color_values = CIE_y\n",
    "\n",
    "color_df = pd.DataFrame(color_values, index=image_labels)\n",
    "color_df.columns = [\"color\"]\n",
    "# color_df.to_csv(\"original_data/grain_color_CIE.csv\")\n",
    "color_df.head()"
   ]
  },
  {
   "cell_type": "markdown",
   "metadata": {},
   "source": [
    "### For parent lines"
   ]
  },
  {
   "cell_type": "code",
   "execution_count": 9,
   "metadata": {},
   "outputs": [
    {
     "data": {
      "text/html": [
       "<div>\n",
       "<style scoped>\n",
       "    .dataframe tbody tr th:only-of-type {\n",
       "        vertical-align: middle;\n",
       "    }\n",
       "\n",
       "    .dataframe tbody tr th {\n",
       "        vertical-align: top;\n",
       "    }\n",
       "\n",
       "    .dataframe thead th {\n",
       "        text-align: right;\n",
       "    }\n",
       "</style>\n",
       "<table border=\"1\" class=\"dataframe\">\n",
       "  <thead>\n",
       "    <tr style=\"text-align: right;\">\n",
       "      <th></th>\n",
       "      <th>color</th>\n",
       "    </tr>\n",
       "  </thead>\n",
       "  <tbody>\n",
       "    <tr>\n",
       "      <th>Hitomebore</th>\n",
       "      <td>194859.256216</td>\n",
       "    </tr>\n",
       "    <tr>\n",
       "      <th>KALUHEENATI</th>\n",
       "      <td>58105.372219</td>\n",
       "    </tr>\n",
       "  </tbody>\n",
       "</table>\n",
       "</div>"
      ],
      "text/plain": [
       "                     color\n",
       "Hitomebore   194859.256216\n",
       "KALUHEENATI   58105.372219"
      ]
     },
     "execution_count": 9,
     "metadata": {},
     "output_type": "execute_result"
    }
   ],
   "source": [
    "## KALUHEENATI & Hitomebore\n",
    "parent_images = glob.glob('/Users/toshiyuki/Desktop/N09/NAM09/KALUHEENATI_Hitome_img/*.jpg')\n",
    "\n",
    "parent_image_labels = [\"Hitomebore\", \"KALUHEENATI\"]\n",
    "parent_image_rgb = []\n",
    "for i in parent_images:\n",
    "    parent_img_path, cluster = cluster_color(i)\n",
    "    if sum(cluster[0]) > sum(cluster[1]):\n",
    "        parent_image_rgb.append(cluster[1])\n",
    "    else:\n",
    "        parent_image_rgb.append(cluster[0])\n",
    "        \n",
    "parent_CIE_y = []\n",
    "for i in parent_image_rgb:\n",
    "    rgb = sRGBColor(i[0],i[1],i[2])\n",
    "    xyz = convert_color(rgb, XYZColor)\n",
    "    parent_CIE_y.append(xyz.get_value_tuple()[1])\n",
    "\n",
    "parent_color_values = parent_CIE_y\n",
    "\n",
    "parent_color_df = pd.DataFrame(parent_color_values, index=parent_image_labels)\n",
    "parent_color_df.columns = [\"color\"]\n",
    "parent_color_df"
   ]
  },
  {
   "cell_type": "markdown",
   "metadata": {},
   "source": [
    "### Visualize seed hull color distribution"
   ]
  },
  {
   "cell_type": "code",
   "execution_count": 19,
   "metadata": {},
   "outputs": [
    {
     "data": {
      "image/png": "[encoded data removed]",
      "text/plain": [
       "<Figure size 432x288 with 1 Axes>"
      ]
     },
     "metadata": {
      "image/png": {
       "height": 266,
       "width": 386
      }
     },
     "output_type": "display_data"
    }
   ],
   "source": [
    "sns.set()\n",
    "\n",
    "plt.rcParams[\"font.size\"] = 14\n",
    "color = pd.read_csv(\"../data/grain_color_CIE.csv\")\n",
    "color.columns = [\"line\", \"phenotype value\"]\n",
    "plt.figure(figsize=(6,4))\n",
    "n, bins, patches = plt.hist(color[\"phenotype value\"], bins=[50000,70000,90000,110000,130000,150000,170000,190000,210000],edgecolor = 'black')\n",
    "for i in range(8):\n",
    "    patches[i].set_facecolor((i/8, i/8, i/8))\n",
    "plt.xlabel(\"Phenotype value\")\n",
    "plt.ylabel(\"The number of RILs\")\n",
    "plt.gca().spines['right'].set_visible(False)\n",
    "plt.gca().spines['top'].set_visible(False)\n",
    "\n",
    "plt.show()"
   ]
  },
  {
   "cell_type": "markdown",
   "metadata": {},
   "source": [
    "### Visualize SPAD value distribution"
   ]
  },
  {
   "cell_type": "code",
   "execution_count": 2,
   "metadata": {},
   "outputs": [
    {
     "name": "stderr",
     "output_type": "stream",
     "text": [
      "/usr/local/lib/python3.7/site-packages/numpy/lib/histograms.py:824: RuntimeWarning: invalid value encountered in greater_equal\n",
      "  keep = (tmp_a >= first_edge)\n",
      "/usr/local/lib/python3.7/site-packages/numpy/lib/histograms.py:825: RuntimeWarning: invalid value encountered in less_equal\n",
      "  keep &= (tmp_a <= last_edge)\n"
     ]
    },
    {
     "data": {
      "image/png": "[encoded data removed]",
      "text/plain": [
       "<Figure size 432x288 with 1 Axes>"
      ]
     },
     "metadata": {
      "image/png": {
       "height": 267,
       "width": 386
      }
     },
     "output_type": "display_data"
    }
   ],
   "source": [
    "sns.set()\n",
    "\n",
    "plt.rcParams[\"font.size\"] = 14\n",
    "color = pd.read_csv(\"../data/other_phenotype/origin_SPAD.csv\")\n",
    "color.columns = [\"line\", \"phenotype value\"]\n",
    "plt.figure(figsize=(6,4))\n",
    "# sns.distplot(color[\"phenotype value\"], kde=False, hist=True)\n",
    "n, bins, patches = plt.hist(color[\"phenotype value\"],edgecolor = 'black')\n",
    "for i in range(10):\n",
    "    patches[i].set_facecolor((0, (10-i)/10, 0))\n",
    "plt.xlabel(\"Phenotype value\")\n",
    "plt.ylabel(\"The number of RILs\")\n",
    "plt.gca().spines['right'].set_visible(False)\n",
    "plt.gca().spines['top'].set_visible(False)\n",
    "\n",
    "plt.show()"
   ]
  }
 ],
 "metadata": {
  "kernelspec": {
   "display_name": "Python 3",
   "language": "python",
   "name": "python3"
  },
  "language_info": {
   "codemirror_mode": {
    "name": "ipython",
    "version": 3
   },
   "file_extension": ".py",
   "mimetype": "text/x-python",
   "name": "python",
   "nbconvert_exporter": "python",
   "pygments_lexer": "ipython3",
   "version": "3.7.4"
  }
 },
 "nbformat": 4,
 "nbformat_minor": 2
}
